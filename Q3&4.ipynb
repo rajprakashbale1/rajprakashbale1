{
  "nbformat": 4,
  "nbformat_minor": 0,
  "metadata": {
    "colab": {
      "name": "Q3&4.ipynb",
      "provenance": [],
      "collapsed_sections": [],
      "authorship_tag": "ABX9TyPR6GiKRMs+Khv0DwFgEbpU",
      "include_colab_link": true
    },
    "kernelspec": {
      "name": "python3",
      "display_name": "Python 3"
    },
    "language_info": {
      "name": "python"
    }
  },
  "cells": [
    {
      "cell_type": "markdown",
      "metadata": {
        "id": "view-in-github",
        "colab_type": "text"
      },
      "source": [
        "<a href=\"https://colab.research.google.com/github/rajprakashbale1/rajprakashbale1/blob/main/Q3%264.ipynb\" target=\"_parent\"><img src=\"https://colab.research.google.com/assets/colab-badge.svg\" alt=\"Open In Colab\"/></a>"
      ]
    },
    {
      "cell_type": "code",
      "source": [
        "import pandas as pd\n",
        "\n",
        "df = pd.read_csv('diabetes.csv')"
      ],
      "metadata": {
        "id": "qq4vv8JhH6VD"
      },
      "execution_count": null,
      "outputs": []
    },
    {
      "cell_type": "code",
      "source": [
        "df.info() ## No null values, so we proceed"
      ],
      "metadata": {
        "id": "Atn3ed2LH6QO",
        "colab": {
          "base_uri": "https://localhost:8080/"
        },
        "outputId": "b20f97ce-9fd6-4cb9-e522-eea338b0cc2d"
      },
      "execution_count": null,
      "outputs": [
        {
          "output_type": "stream",
          "name": "stdout",
          "text": [
            "<class 'pandas.core.frame.DataFrame'>\n",
            "RangeIndex: 768 entries, 0 to 767\n",
            "Data columns (total 9 columns):\n",
            " #   Column                    Non-Null Count  Dtype  \n",
            "---  ------                    --------------  -----  \n",
            " 0   Pregnancies               768 non-null    int64  \n",
            " 1   Glucose                   768 non-null    int64  \n",
            " 2   BloodPressure             768 non-null    int64  \n",
            " 3   SkinThickness             768 non-null    int64  \n",
            " 4   Insulin                   768 non-null    int64  \n",
            " 5   BMI                       768 non-null    float64\n",
            " 6   DiabetesPedigreeFunction  768 non-null    float64\n",
            " 7   Age                       768 non-null    int64  \n",
            " 8   Outcome                   768 non-null    int64  \n",
            "dtypes: float64(2), int64(7)\n",
            "memory usage: 54.1 KB\n"
          ]
        }
      ]
    },
    {
      "cell_type": "code",
      "source": [
        "## Correlation check\n",
        "df.corr('pearson') ## No indications of huge correlations"
      ],
      "metadata": {
        "id": "lThbcAskH6Lw",
        "colab": {
          "base_uri": "https://localhost:8080/",
          "height": 392
        },
        "outputId": "bfcb90aa-a5b8-452e-d6dd-bf78fc4a5521"
      },
      "execution_count": null,
      "outputs": [
        {
          "output_type": "execute_result",
          "data": {
            "text/html": [
              "\n",
              "  <div id=\"df-7c57fc96-5912-454c-95e9-40ac8ae371fd\">\n",
              "    <div class=\"colab-df-container\">\n",
              "      <div>\n",
              "<style scoped>\n",
              "    .dataframe tbody tr th:only-of-type {\n",
              "        vertical-align: middle;\n",
              "    }\n",
              "\n",
              "    .dataframe tbody tr th {\n",
              "        vertical-align: top;\n",
              "    }\n",
              "\n",
              "    .dataframe thead th {\n",
              "        text-align: right;\n",
              "    }\n",
              "</style>\n",
              "<table border=\"1\" class=\"dataframe\">\n",
              "  <thead>\n",
              "    <tr style=\"text-align: right;\">\n",
              "      <th></th>\n",
              "      <th>Pregnancies</th>\n",
              "      <th>Glucose</th>\n",
              "      <th>BloodPressure</th>\n",
              "      <th>SkinThickness</th>\n",
              "      <th>Insulin</th>\n",
              "      <th>BMI</th>\n",
              "      <th>DiabetesPedigreeFunction</th>\n",
              "      <th>Age</th>\n",
              "      <th>Outcome</th>\n",
              "    </tr>\n",
              "  </thead>\n",
              "  <tbody>\n",
              "    <tr>\n",
              "      <th>Pregnancies</th>\n",
              "      <td>1.000000</td>\n",
              "      <td>0.129459</td>\n",
              "      <td>0.141282</td>\n",
              "      <td>-0.081672</td>\n",
              "      <td>-0.073535</td>\n",
              "      <td>0.017683</td>\n",
              "      <td>-0.033523</td>\n",
              "      <td>0.544341</td>\n",
              "      <td>0.221898</td>\n",
              "    </tr>\n",
              "    <tr>\n",
              "      <th>Glucose</th>\n",
              "      <td>0.129459</td>\n",
              "      <td>1.000000</td>\n",
              "      <td>0.152590</td>\n",
              "      <td>0.057328</td>\n",
              "      <td>0.331357</td>\n",
              "      <td>0.221071</td>\n",
              "      <td>0.137337</td>\n",
              "      <td>0.263514</td>\n",
              "      <td>0.466581</td>\n",
              "    </tr>\n",
              "    <tr>\n",
              "      <th>BloodPressure</th>\n",
              "      <td>0.141282</td>\n",
              "      <td>0.152590</td>\n",
              "      <td>1.000000</td>\n",
              "      <td>0.207371</td>\n",
              "      <td>0.088933</td>\n",
              "      <td>0.281805</td>\n",
              "      <td>0.041265</td>\n",
              "      <td>0.239528</td>\n",
              "      <td>0.065068</td>\n",
              "    </tr>\n",
              "    <tr>\n",
              "      <th>SkinThickness</th>\n",
              "      <td>-0.081672</td>\n",
              "      <td>0.057328</td>\n",
              "      <td>0.207371</td>\n",
              "      <td>1.000000</td>\n",
              "      <td>0.436783</td>\n",
              "      <td>0.392573</td>\n",
              "      <td>0.183928</td>\n",
              "      <td>-0.113970</td>\n",
              "      <td>0.074752</td>\n",
              "    </tr>\n",
              "    <tr>\n",
              "      <th>Insulin</th>\n",
              "      <td>-0.073535</td>\n",
              "      <td>0.331357</td>\n",
              "      <td>0.088933</td>\n",
              "      <td>0.436783</td>\n",
              "      <td>1.000000</td>\n",
              "      <td>0.197859</td>\n",
              "      <td>0.185071</td>\n",
              "      <td>-0.042163</td>\n",
              "      <td>0.130548</td>\n",
              "    </tr>\n",
              "    <tr>\n",
              "      <th>BMI</th>\n",
              "      <td>0.017683</td>\n",
              "      <td>0.221071</td>\n",
              "      <td>0.281805</td>\n",
              "      <td>0.392573</td>\n",
              "      <td>0.197859</td>\n",
              "      <td>1.000000</td>\n",
              "      <td>0.140647</td>\n",
              "      <td>0.036242</td>\n",
              "      <td>0.292695</td>\n",
              "    </tr>\n",
              "    <tr>\n",
              "      <th>DiabetesPedigreeFunction</th>\n",
              "      <td>-0.033523</td>\n",
              "      <td>0.137337</td>\n",
              "      <td>0.041265</td>\n",
              "      <td>0.183928</td>\n",
              "      <td>0.185071</td>\n",
              "      <td>0.140647</td>\n",
              "      <td>1.000000</td>\n",
              "      <td>0.033561</td>\n",
              "      <td>0.173844</td>\n",
              "    </tr>\n",
              "    <tr>\n",
              "      <th>Age</th>\n",
              "      <td>0.544341</td>\n",
              "      <td>0.263514</td>\n",
              "      <td>0.239528</td>\n",
              "      <td>-0.113970</td>\n",
              "      <td>-0.042163</td>\n",
              "      <td>0.036242</td>\n",
              "      <td>0.033561</td>\n",
              "      <td>1.000000</td>\n",
              "      <td>0.238356</td>\n",
              "    </tr>\n",
              "    <tr>\n",
              "      <th>Outcome</th>\n",
              "      <td>0.221898</td>\n",
              "      <td>0.466581</td>\n",
              "      <td>0.065068</td>\n",
              "      <td>0.074752</td>\n",
              "      <td>0.130548</td>\n",
              "      <td>0.292695</td>\n",
              "      <td>0.173844</td>\n",
              "      <td>0.238356</td>\n",
              "      <td>1.000000</td>\n",
              "    </tr>\n",
              "  </tbody>\n",
              "</table>\n",
              "</div>\n",
              "      <button class=\"colab-df-convert\" onclick=\"convertToInteractive('df-7c57fc96-5912-454c-95e9-40ac8ae371fd')\"\n",
              "              title=\"Convert this dataframe to an interactive table.\"\n",
              "              style=\"display:none;\">\n",
              "        \n",
              "  <svg xmlns=\"http://www.w3.org/2000/svg\" height=\"24px\"viewBox=\"0 0 24 24\"\n",
              "       width=\"24px\">\n",
              "    <path d=\"M0 0h24v24H0V0z\" fill=\"none\"/>\n",
              "    <path d=\"M18.56 5.44l.94 2.06.94-2.06 2.06-.94-2.06-.94-.94-2.06-.94 2.06-2.06.94zm-11 1L8.5 8.5l.94-2.06 2.06-.94-2.06-.94L8.5 2.5l-.94 2.06-2.06.94zm10 10l.94 2.06.94-2.06 2.06-.94-2.06-.94-.94-2.06-.94 2.06-2.06.94z\"/><path d=\"M17.41 7.96l-1.37-1.37c-.4-.4-.92-.59-1.43-.59-.52 0-1.04.2-1.43.59L10.3 9.45l-7.72 7.72c-.78.78-.78 2.05 0 2.83L4 21.41c.39.39.9.59 1.41.59.51 0 1.02-.2 1.41-.59l7.78-7.78 2.81-2.81c.8-.78.8-2.07 0-2.86zM5.41 20L4 18.59l7.72-7.72 1.47 1.35L5.41 20z\"/>\n",
              "  </svg>\n",
              "      </button>\n",
              "      \n",
              "  <style>\n",
              "    .colab-df-container {\n",
              "      display:flex;\n",
              "      flex-wrap:wrap;\n",
              "      gap: 12px;\n",
              "    }\n",
              "\n",
              "    .colab-df-convert {\n",
              "      background-color: #E8F0FE;\n",
              "      border: none;\n",
              "      border-radius: 50%;\n",
              "      cursor: pointer;\n",
              "      display: none;\n",
              "      fill: #1967D2;\n",
              "      height: 32px;\n",
              "      padding: 0 0 0 0;\n",
              "      width: 32px;\n",
              "    }\n",
              "\n",
              "    .colab-df-convert:hover {\n",
              "      background-color: #E2EBFA;\n",
              "      box-shadow: 0px 1px 2px rgba(60, 64, 67, 0.3), 0px 1px 3px 1px rgba(60, 64, 67, 0.15);\n",
              "      fill: #174EA6;\n",
              "    }\n",
              "\n",
              "    [theme=dark] .colab-df-convert {\n",
              "      background-color: #3B4455;\n",
              "      fill: #D2E3FC;\n",
              "    }\n",
              "\n",
              "    [theme=dark] .colab-df-convert:hover {\n",
              "      background-color: #434B5C;\n",
              "      box-shadow: 0px 1px 3px 1px rgba(0, 0, 0, 0.15);\n",
              "      filter: drop-shadow(0px 1px 2px rgba(0, 0, 0, 0.3));\n",
              "      fill: #FFFFFF;\n",
              "    }\n",
              "  </style>\n",
              "\n",
              "      <script>\n",
              "        const buttonEl =\n",
              "          document.querySelector('#df-7c57fc96-5912-454c-95e9-40ac8ae371fd button.colab-df-convert');\n",
              "        buttonEl.style.display =\n",
              "          google.colab.kernel.accessAllowed ? 'block' : 'none';\n",
              "\n",
              "        async function convertToInteractive(key) {\n",
              "          const element = document.querySelector('#df-7c57fc96-5912-454c-95e9-40ac8ae371fd');\n",
              "          const dataTable =\n",
              "            await google.colab.kernel.invokeFunction('convertToInteractive',\n",
              "                                                     [key], {});\n",
              "          if (!dataTable) return;\n",
              "\n",
              "          const docLinkHtml = 'Like what you see? Visit the ' +\n",
              "            '<a target=\"_blank\" href=https://colab.research.google.com/notebooks/data_table.ipynb>data table notebook</a>'\n",
              "            + ' to learn more about interactive tables.';\n",
              "          element.innerHTML = '';\n",
              "          dataTable['output_type'] = 'display_data';\n",
              "          await google.colab.output.renderOutput(dataTable, element);\n",
              "          const docLink = document.createElement('div');\n",
              "          docLink.innerHTML = docLinkHtml;\n",
              "          element.appendChild(docLink);\n",
              "        }\n",
              "      </script>\n",
              "    </div>\n",
              "  </div>\n",
              "  "
            ],
            "text/plain": [
              "                          Pregnancies   Glucose  ...       Age   Outcome\n",
              "Pregnancies                  1.000000  0.129459  ...  0.544341  0.221898\n",
              "Glucose                      0.129459  1.000000  ...  0.263514  0.466581\n",
              "BloodPressure                0.141282  0.152590  ...  0.239528  0.065068\n",
              "SkinThickness               -0.081672  0.057328  ... -0.113970  0.074752\n",
              "Insulin                     -0.073535  0.331357  ... -0.042163  0.130548\n",
              "BMI                          0.017683  0.221071  ...  0.036242  0.292695\n",
              "DiabetesPedigreeFunction    -0.033523  0.137337  ...  0.033561  0.173844\n",
              "Age                          0.544341  0.263514  ...  1.000000  0.238356\n",
              "Outcome                      0.221898  0.466581  ...  0.238356  1.000000\n",
              "\n",
              "[9 rows x 9 columns]"
            ]
          },
          "metadata": {},
          "execution_count": 3
        }
      ]
    },
    {
      "cell_type": "code",
      "source": [
        "def in_out_split(df_org):\n",
        "    x_cols = [x for x in df_org.columns if x!='Outcome']\n",
        "    X = df_org[x_cols]\n",
        "    y = df_org['Outcome']\n",
        "    return X,y\n",
        "\n",
        "X,y = in_out_split(df)"
      ],
      "metadata": {
        "id": "Jo0hnPLTH58W"
      },
      "execution_count": null,
      "outputs": []
    },
    {
      "cell_type": "code",
      "source": [
        "def formula_manifest(X,y):\n",
        "    rhs = '+'.join(X.columns)\n",
        "    lhs = y.name+'~'\n",
        "    return(lhs+rhs)"
      ],
      "metadata": {
        "id": "cgodKv_4YGsF"
      },
      "execution_count": null,
      "outputs": []
    },
    {
      "cell_type": "code",
      "source": [
        "import statsmodels.formula.api as smf\n",
        "formula_ = formula_manifest(X,y)\n",
        "model = smf.logit(formula=formula_,data=df).fit()\n",
        "print(model.summary())"
      ],
      "metadata": {
        "id": "Fhxnt8rBH5wF",
        "colab": {
          "base_uri": "https://localhost:8080/"
        },
        "outputId": "825c9c7c-668e-4f78-ad55-f9fd0b06f9b2"
      },
      "execution_count": null,
      "outputs": [
        {
          "output_type": "stream",
          "name": "stderr",
          "text": [
            "/usr/local/lib/python3.7/dist-packages/statsmodels/tools/_testing.py:19: FutureWarning: pandas.util.testing is deprecated. Use the functions in the public API at pandas.testing instead.\n",
            "  import pandas.util.testing as tm\n"
          ]
        },
        {
          "output_type": "stream",
          "name": "stdout",
          "text": [
            "Optimization terminated successfully.\n",
            "         Current function value: 0.470993\n",
            "         Iterations 6\n",
            "                           Logit Regression Results                           \n",
            "==============================================================================\n",
            "Dep. Variable:                Outcome   No. Observations:                  768\n",
            "Model:                          Logit   Df Residuals:                      759\n",
            "Method:                           MLE   Df Model:                            8\n",
            "Date:                Fri, 21 Jan 2022   Pseudo R-squ.:                  0.2718\n",
            "Time:                        21:15:58   Log-Likelihood:                -361.72\n",
            "converged:                       True   LL-Null:                       -496.74\n",
            "Covariance Type:            nonrobust   LLR p-value:                 9.652e-54\n",
            "============================================================================================\n",
            "                               coef    std err          z      P>|z|      [0.025      0.975]\n",
            "--------------------------------------------------------------------------------------------\n",
            "Intercept                   -8.4047      0.717    -11.728      0.000      -9.809      -7.000\n",
            "Pregnancies                  0.1232      0.032      3.840      0.000       0.060       0.186\n",
            "Glucose                      0.0352      0.004      9.481      0.000       0.028       0.042\n",
            "BloodPressure               -0.0133      0.005     -2.540      0.011      -0.024      -0.003\n",
            "SkinThickness                0.0006      0.007      0.090      0.929      -0.013       0.014\n",
            "Insulin                     -0.0012      0.001     -1.322      0.186      -0.003       0.001\n",
            "BMI                          0.0897      0.015      5.945      0.000       0.060       0.119\n",
            "DiabetesPedigreeFunction     0.9452      0.299      3.160      0.002       0.359       1.531\n",
            "Age                          0.0149      0.009      1.593      0.111      -0.003       0.033\n",
            "============================================================================================\n"
          ]
        }
      ]
    },
    {
      "cell_type": "code",
      "source": [
        "from sklearn.metrics import confusion_matrix, classification_report,accuracy_score\n",
        "\n",
        "## Find the threshold that gives maximum accuracy\n",
        "\n",
        "def threshold_calc(X,y,tmodel):\n",
        "    thresh = 0.3\n",
        "    orgs = y\n",
        "    max = 0\n",
        "    thresh_goat = 0\n",
        "    preds_p = tmodel.predict(X)\n",
        "    while (thresh<0.7):\n",
        "        preds = [1 if x > thresh else 0 for x in preds_p]\n",
        "        accuracy = accuracy_score(orgs,preds)\n",
        "        if accuracy > max:\n",
        "            max = accuracy\n",
        "            thresh_goat = thresh\n",
        "        thresh = thresh + 0.001\n",
        "    return max,thresh_goat\n",
        "max,threshold = threshold_calc(X,y,model)\n",
        "\n",
        "df['predictions_prob'] = model.predict(X)\n",
        "df['predictions'] = df['predictions_prob'].apply(lambda x: 1 if x>threshold else 0)\n",
        "print(classification_report(df['Outcome'],df['predictions'],digits=3))\n",
        "print(\"Accuracy of the model is: \",accuracy_score(df['Outcome'],df['predictions']))"
      ],
      "metadata": {
        "id": "FM1cSMaqH5rg",
        "colab": {
          "base_uri": "https://localhost:8080/"
        },
        "outputId": "684f524d-07e7-405d-c53b-93133a9759bd"
      },
      "execution_count": null,
      "outputs": [
        {
          "output_type": "stream",
          "name": "stdout",
          "text": [
            "              precision    recall  f1-score   support\n",
            "\n",
            "           0      0.803     0.888     0.843       500\n",
            "           1      0.740     0.593     0.658       268\n",
            "\n",
            "    accuracy                          0.785       768\n",
            "   macro avg      0.771     0.741     0.751       768\n",
            "weighted avg      0.781     0.785     0.779       768\n",
            "\n",
            "Accuracy of the model is:  0.78515625\n"
          ]
        }
      ]
    },
    {
      "cell_type": "code",
      "source": [
        "class stepwise():\n",
        "    def __init__(self,*args):\n",
        "        self.keep_ = []\n",
        "        self.try_ = args[0].columns.tolist()\n",
        "        self.df = pd.concat([args[0],args[1]],axis=1)\n",
        "        self.label='Outcome~'\n",
        "        self.execute()\n",
        "        print(\"Features to keep:\",self.keep_)\n",
        "        print(\"Features to drop:\",self.try_)\n",
        "\n",
        "    def execute(self):\n",
        "        forwards_result = self.forward()\n",
        "        backwards_result = self.backward()\n",
        "        if (forwards_result != None or backwards_result != None):\n",
        "            if self.forward() != None:\n",
        "                self.keep_.append(forwards_result)\n",
        "                self.try_.remove(forwards_result)\n",
        "            if self.backward() != None:\n",
        "                self.try_.append(backwards_result)\n",
        "            self.execute()\n",
        "\n",
        "\n",
        "    def forward(self,pent=0.5):\n",
        "        try:\n",
        "            for i in range(len(self.try_)):\n",
        "                features = self.keep_ + [self.try_[i]]\n",
        "                formula_ = self.label+'+'.join(features)\n",
        "                model = smf.logit(formula=formula_,data=self.df).fit()\n",
        "                temp_pval = model.pvalues[self.try_[i]]\n",
        "                if temp_pval < pent:\n",
        "                    pent = temp_pval\n",
        "                    final_feature = self.try_[i]\n",
        "            return final_feature\n",
        "        except Exception as e:\n",
        "            return None\n",
        "\n",
        "    def backward(self,pexit=0.5):\n",
        "        try:\n",
        "            if len(self.keep_) > 0:\n",
        "                formula_ = self.label+'+'.join(self.keep_)\n",
        "                model = smf.logit(formula=formula_,data=self.df).fit()\n",
        "                for feature in self.keep_:\n",
        "                    if model.pvalues[feature] > pexit:\n",
        "                        pexit = model.pvalues[feature]\n",
        "                        final_feature = feature\n",
        "                return final_feature\n",
        "        except Exception as e:\n",
        "            return None\n",
        " \n",
        "\n",
        "X = df.iloc[:,:-3]\n",
        "y = df.iloc[:,-3]\n",
        "stepwise(X,y)"
      ],
      "metadata": {
        "colab": {
          "base_uri": "https://localhost:8080/"
        },
        "id": "5H1vE53k-PjJ",
        "outputId": "aefa460b-f5b2-4675-a952-0b93d3fa27dc"
      },
      "execution_count": null,
      "outputs": [
        {
          "output_type": "stream",
          "name": "stdout",
          "text": [
            "Optimization terminated successfully.\n",
            "         Current function value: 0.622532\n",
            "         Iterations 5\n",
            "Optimization terminated successfully.\n",
            "         Current function value: 0.526510\n",
            "         Iterations 6\n",
            "Optimization terminated successfully.\n",
            "         Current function value: 0.644614\n",
            "         Iterations 5\n",
            "Optimization terminated successfully.\n",
            "         Current function value: 0.644003\n",
            "         Iterations 5\n",
            "Optimization terminated successfully.\n",
            "         Current function value: 0.638548\n",
            "         Iterations 5\n",
            "Optimization terminated successfully.\n",
            "         Current function value: 0.599423\n",
            "         Iterations 6\n",
            "Optimization terminated successfully.\n",
            "         Current function value: 0.632071\n",
            "         Iterations 5\n",
            "Optimization terminated successfully.\n",
            "         Current function value: 0.618959\n",
            "         Iterations 5\n",
            "Optimization terminated successfully.\n",
            "         Current function value: 0.622532\n",
            "         Iterations 5\n",
            "Optimization terminated successfully.\n",
            "         Current function value: 0.526510\n",
            "         Iterations 6\n",
            "Optimization terminated successfully.\n",
            "         Current function value: 0.644614\n",
            "         Iterations 5\n",
            "Optimization terminated successfully.\n",
            "         Current function value: 0.644003\n",
            "         Iterations 5\n",
            "Optimization terminated successfully.\n",
            "         Current function value: 0.638548\n",
            "         Iterations 5\n",
            "Optimization terminated successfully.\n",
            "         Current function value: 0.599423\n",
            "         Iterations 6\n",
            "Optimization terminated successfully.\n",
            "         Current function value: 0.632071\n",
            "         Iterations 5\n",
            "Optimization terminated successfully.\n",
            "         Current function value: 0.618959\n",
            "         Iterations 5\n",
            "Optimization terminated successfully.\n",
            "         Current function value: 0.526510\n",
            "         Iterations 6\n",
            "Optimization terminated successfully.\n",
            "         Current function value: 0.511035\n",
            "         Iterations 6\n",
            "Optimization terminated successfully.\n",
            "         Current function value: 0.526429\n",
            "         Iterations 6\n",
            "Optimization terminated successfully.\n",
            "         Current function value: 0.525434\n",
            "         Iterations 6\n",
            "Optimization terminated successfully.\n",
            "         Current function value: 0.525892\n",
            "         Iterations 6\n",
            "Optimization terminated successfully.\n",
            "         Current function value: 0.502215\n",
            "         Iterations 6\n",
            "Optimization terminated successfully.\n",
            "         Current function value: 0.518872\n",
            "         Iterations 6\n",
            "Optimization terminated successfully.\n",
            "         Current function value: 0.519116\n",
            "         Iterations 6\n",
            "Optimization terminated successfully.\n",
            "         Current function value: 0.526510\n",
            "         Iterations 6\n",
            "Optimization terminated successfully.\n",
            "         Current function value: 0.511035\n",
            "         Iterations 6\n",
            "Optimization terminated successfully.\n",
            "         Current function value: 0.526429\n",
            "         Iterations 6\n",
            "Optimization terminated successfully.\n",
            "         Current function value: 0.525434\n",
            "         Iterations 6\n",
            "Optimization terminated successfully.\n",
            "         Current function value: 0.525892\n",
            "         Iterations 6\n",
            "Optimization terminated successfully.\n",
            "         Current function value: 0.502215\n",
            "         Iterations 6\n",
            "Optimization terminated successfully.\n",
            "         Current function value: 0.518872\n",
            "         Iterations 6\n",
            "Optimization terminated successfully.\n",
            "         Current function value: 0.519116\n",
            "         Iterations 6\n",
            "Optimization terminated successfully.\n",
            "         Current function value: 0.502215\n",
            "         Iterations 6\n",
            "Optimization terminated successfully.\n",
            "         Current function value: 0.484456\n",
            "         Iterations 6\n",
            "Optimization terminated successfully.\n",
            "         Current function value: 0.500694\n",
            "         Iterations 6\n",
            "Optimization terminated successfully.\n",
            "         Current function value: 0.501433\n",
            "         Iterations 6\n",
            "Optimization terminated successfully.\n",
            "         Current function value: 0.499861\n",
            "         Iterations 6\n",
            "Optimization terminated successfully.\n",
            "         Current function value: 0.496661\n",
            "         Iterations 6\n",
            "Optimization terminated successfully.\n",
            "         Current function value: 0.491982\n",
            "         Iterations 6\n",
            "Optimization terminated successfully.\n",
            "         Current function value: 0.502215\n",
            "         Iterations 6\n",
            "Optimization terminated successfully.\n",
            "         Current function value: 0.484456\n",
            "         Iterations 6\n",
            "Optimization terminated successfully.\n",
            "         Current function value: 0.500694\n",
            "         Iterations 6\n",
            "Optimization terminated successfully.\n",
            "         Current function value: 0.501433\n",
            "         Iterations 6\n",
            "Optimization terminated successfully.\n",
            "         Current function value: 0.499861\n",
            "         Iterations 6\n",
            "Optimization terminated successfully.\n",
            "         Current function value: 0.496661\n",
            "         Iterations 6\n",
            "Optimization terminated successfully.\n",
            "         Current function value: 0.491982\n",
            "         Iterations 6\n",
            "Optimization terminated successfully.\n",
            "         Current function value: 0.484456\n",
            "         Iterations 6\n",
            "Optimization terminated successfully.\n",
            "         Current function value: 0.480748\n",
            "         Iterations 6\n",
            "Optimization terminated successfully.\n",
            "         Current function value: 0.484114\n",
            "         Iterations 6\n",
            "Optimization terminated successfully.\n",
            "         Current function value: 0.483351\n",
            "         Iterations 6\n",
            "Optimization terminated successfully.\n",
            "         Current function value: 0.478064\n",
            "         Iterations 6\n",
            "Optimization terminated successfully.\n",
            "         Current function value: 0.483138\n",
            "         Iterations 6\n",
            "Optimization terminated successfully.\n",
            "         Current function value: 0.484456\n",
            "         Iterations 6\n",
            "Optimization terminated successfully.\n",
            "         Current function value: 0.480748\n",
            "         Iterations 6\n",
            "Optimization terminated successfully.\n",
            "         Current function value: 0.484114\n",
            "         Iterations 6\n",
            "Optimization terminated successfully.\n",
            "         Current function value: 0.483351\n",
            "         Iterations 6\n",
            "Optimization terminated successfully.\n",
            "         Current function value: 0.478064\n",
            "         Iterations 6\n",
            "Optimization terminated successfully.\n",
            "         Current function value: 0.483138\n",
            "         Iterations 6\n",
            "Optimization terminated successfully.\n",
            "         Current function value: 0.478064\n",
            "         Iterations 6\n",
            "Optimization terminated successfully.\n",
            "         Current function value: 0.474323\n",
            "         Iterations 6\n",
            "Optimization terminated successfully.\n",
            "         Current function value: 0.477252\n",
            "         Iterations 6\n",
            "Optimization terminated successfully.\n",
            "         Current function value: 0.476241\n",
            "         Iterations 6\n",
            "Optimization terminated successfully.\n",
            "         Current function value: 0.476894\n",
            "         Iterations 6\n",
            "Optimization terminated successfully.\n",
            "         Current function value: 0.478064\n",
            "         Iterations 6\n",
            "Optimization terminated successfully.\n",
            "         Current function value: 0.474323\n",
            "         Iterations 6\n",
            "Optimization terminated successfully.\n",
            "         Current function value: 0.477252\n",
            "         Iterations 6\n",
            "Optimization terminated successfully.\n",
            "         Current function value: 0.476241\n",
            "         Iterations 6\n",
            "Optimization terminated successfully.\n",
            "         Current function value: 0.476894\n",
            "         Iterations 6\n",
            "Optimization terminated successfully.\n",
            "         Current function value: 0.474323\n",
            "         Iterations 6\n",
            "Optimization terminated successfully.\n",
            "         Current function value: 0.473961\n",
            "         Iterations 6\n",
            "Optimization terminated successfully.\n",
            "         Current function value: 0.472637\n",
            "         Iterations 6\n",
            "Optimization terminated successfully.\n",
            "         Current function value: 0.472306\n",
            "         Iterations 6\n",
            "Optimization terminated successfully.\n",
            "         Current function value: 0.474323\n",
            "         Iterations 6\n",
            "Optimization terminated successfully.\n",
            "         Current function value: 0.473961\n",
            "         Iterations 6\n",
            "Optimization terminated successfully.\n",
            "         Current function value: 0.472637\n",
            "         Iterations 6\n",
            "Optimization terminated successfully.\n",
            "         Current function value: 0.472306\n",
            "         Iterations 6\n",
            "Optimization terminated successfully.\n",
            "         Current function value: 0.472306\n",
            "         Iterations 6\n",
            "Optimization terminated successfully.\n",
            "         Current function value: 0.472127\n",
            "         Iterations 6\n",
            "Optimization terminated successfully.\n",
            "         Current function value: 0.470998\n",
            "         Iterations 6\n",
            "Optimization terminated successfully.\n",
            "         Current function value: 0.472306\n",
            "         Iterations 6\n",
            "Optimization terminated successfully.\n",
            "         Current function value: 0.472127\n",
            "         Iterations 6\n",
            "Optimization terminated successfully.\n",
            "         Current function value: 0.470998\n",
            "         Iterations 6\n",
            "Optimization terminated successfully.\n",
            "         Current function value: 0.470998\n",
            "         Iterations 6\n",
            "Optimization terminated successfully.\n",
            "         Current function value: 0.470993\n",
            "         Iterations 6\n",
            "Optimization terminated successfully.\n",
            "         Current function value: 0.470998\n",
            "         Iterations 6\n",
            "Features to keep: ['Glucose', 'BMI', 'Pregnancies', 'DiabetesPedigreeFunction', 'BloodPressure', 'Age', 'Insulin']\n",
            "Features to drop: ['SkinThickness']\n"
          ]
        },
        {
          "output_type": "execute_result",
          "data": {
            "text/plain": [
              "<__main__.stepwise at 0x7f1b33a83810>"
            ]
          },
          "metadata": {},
          "execution_count": 16
        }
      ]
    },
    {
      "cell_type": "code",
      "source": [
        "features_proc = '+'.join(['Glucose','BMI','Pregnancies','DiabetesPedigreeFunction','BloodPressure','Age','Insulin'])\n",
        "model2 = smf.logit(formula='Outcome~'+features_proc,data=df).fit()\n",
        "print(model2.summary())"
      ],
      "metadata": {
        "colab": {
          "base_uri": "https://localhost:8080/"
        },
        "id": "sFy6IGxPXx0E",
        "outputId": "26fd716f-74f9-4577-d26c-b6abd536519c"
      },
      "execution_count": null,
      "outputs": [
        {
          "output_type": "stream",
          "name": "stdout",
          "text": [
            "Optimization terminated successfully.\n",
            "         Current function value: 0.470998\n",
            "         Iterations 6\n",
            "                           Logit Regression Results                           \n",
            "==============================================================================\n",
            "Dep. Variable:                Outcome   No. Observations:                  768\n",
            "Model:                          Logit   Df Residuals:                      760\n",
            "Method:                           MLE   Df Model:                            7\n",
            "Date:                Fri, 21 Jan 2022   Pseudo R-squ.:                  0.2718\n",
            "Time:                        21:19:21   Log-Likelihood:                -361.73\n",
            "converged:                       True   LL-Null:                       -496.74\n",
            "Covariance Type:            nonrobust   LLR p-value:                 1.500e-54\n",
            "============================================================================================\n",
            "                               coef    std err          z      P>|z|      [0.025      0.975]\n",
            "--------------------------------------------------------------------------------------------\n",
            "Intercept                   -8.4051      0.717    -11.727      0.000      -9.810      -7.000\n",
            "Glucose                      0.0351      0.004      9.587      0.000       0.028       0.042\n",
            "BMI                          0.0901      0.014      6.229      0.000       0.062       0.118\n",
            "Pregnancies                  0.1232      0.032      3.841      0.000       0.060       0.186\n",
            "DiabetesPedigreeFunction     0.9476      0.298      3.180      0.001       0.364       1.532\n",
            "BloodPressure               -0.0132      0.005     -2.564      0.010      -0.023      -0.003\n",
            "Age                          0.0148      0.009      1.592      0.111      -0.003       0.033\n",
            "Insulin                     -0.0012      0.001     -1.421      0.155      -0.003       0.000\n",
            "============================================================================================\n"
          ]
        }
      ]
    },
    {
      "cell_type": "code",
      "source": [
        "X = df[df.columns.difference(['SkinThickness'])]\n",
        "max,threshold = threshold_calc(X,y,model2)\n",
        "\n",
        "df['predictions_prob_2'] = model2.predict(X)\n",
        "df['predictions_2'] = df['predictions_prob_2'].apply(lambda x: 1 if x>threshold else 0)\n",
        "print(classification_report(df['Outcome'],df['predictions_2'],digits=3))\n",
        "print(\"Accuracy of the new model after stepwise regx is: \",accuracy_score(df['Outcome'],df['predictions_2']))"
      ],
      "metadata": {
        "colab": {
          "base_uri": "https://localhost:8080/"
        },
        "id": "w2Ifp6jvekGN",
        "outputId": "a118290c-8d14-49ba-db89-1d0886b19c88"
      },
      "execution_count": null,
      "outputs": [
        {
          "output_type": "stream",
          "name": "stdout",
          "text": [
            "              precision    recall  f1-score   support\n",
            "\n",
            "           0      0.804     0.888     0.844       500\n",
            "           1      0.741     0.597     0.661       268\n",
            "\n",
            "    accuracy                          0.786       768\n",
            "   macro avg      0.773     0.743     0.753       768\n",
            "weighted avg      0.782     0.786     0.780       768\n",
            "\n",
            "Accuracy of the new model after stepwise regx is:  0.7864583333333334\n"
          ]
        }
      ]
    },
    {
      "cell_type": "code",
      "source": [
        "print(\"Improvement is:\", (0.7864583333333334-0.78515625)*1000,\"%\")"
      ],
      "metadata": {
        "colab": {
          "base_uri": "https://localhost:8080/"
        },
        "id": "ecfeor94fLYb",
        "outputId": "a2233425-8e5d-420d-bf7d-ed0204525caf"
      },
      "execution_count": null,
      "outputs": [
        {
          "output_type": "stream",
          "name": "stdout",
          "text": [
            "Improvement is: 1.3020833333333703 %\n"
          ]
        }
      ]
    },
    {
      "cell_type": "code",
      "source": [
        "print(model.aic)\n",
        "print(model2.aic)"
      ],
      "metadata": {
        "colab": {
          "base_uri": "https://localhost:8080/"
        },
        "id": "SHZ_Mr6HjQTS",
        "outputId": "9b0d0bac-3d45-4a37-cd02-08f5279e45d8"
      },
      "execution_count": null,
      "outputs": [
        {
          "output_type": "stream",
          "name": "stdout",
          "text": [
            "783.2394853724977\n",
            "776.6037474408696\n"
          ]
        }
      ]
    },
    {
      "cell_type": "code",
      "source": [
        "print(\"Model 2 or the stepwise regressed model has better AIC\")"
      ],
      "metadata": {
        "colab": {
          "base_uri": "https://localhost:8080/"
        },
        "id": "bjlFgpcNjYNy",
        "outputId": "f87d2a6a-8344-4f55-e8a4-15c44c1c5727"
      },
      "execution_count": null,
      "outputs": [
        {
          "output_type": "stream",
          "name": "stdout",
          "text": [
            "Model 2 or the stepwise regressed model has better AIC\n"
          ]
        }
      ]
    },
    {
      "cell_type": "code",
      "source": [
        "print(model.bic)\n",
        "print(model2.bic)"
      ],
      "metadata": {
        "colab": {
          "base_uri": "https://localhost:8080/"
        },
        "id": "Y4ZAIWx_jj5M",
        "outputId": "374e60f8-dad9-4491-8821-c8a281ba2ce0"
      },
      "execution_count": null,
      "outputs": [
        {
          "output_type": "stream",
          "name": "stdout",
          "text": [
            "783.2394853724977\n",
            "776.6037474408696\n"
          ]
        }
      ]
    },
    {
      "cell_type": "code",
      "source": [
        "print(\"Model 2 or the stepwise regressed model has better BIC\")"
      ],
      "metadata": {
        "id": "99oxOzsJjn2V",
        "outputId": "7251fb91-eaed-465a-8e22-f8dea6356d2b",
        "colab": {
          "base_uri": "https://localhost:8080/"
        }
      },
      "execution_count": null,
      "outputs": [
        {
          "output_type": "stream",
          "name": "stdout",
          "text": [
            "Model 2 or the stepwise regressed model has better BIC\n"
          ]
        }
      ]
    },
    {
      "cell_type": "code",
      "source": [
        "#########################################################################################\n",
        "#######################Rough Work - Ignore cells from here ################################\n",
        "#########################################################################################\n",
        "forward([],['Age', 'BMI', 'BloodPressure', 'DiabetesPedigreeFunction', 'Glucose',\n",
        "       'Insulin', 'Pregnancies', 'SkinThickness'])\n",
        "\n",
        "# smf.logit(formula='Outcome~Age',data=df).fit().pvalues['Age']\n",
        "# smf.logit(formula='Outcome~BMI',data=df).fit().pvalues['BMI']\n",
        "# smf.logit(formula='Outcome~BloodPressure',data=df).fit().pvalues['BloodPressure']\n",
        "# smf.logit(formula='Outcome~Insulin',data=df).fit().pvalues['Insulin']\n",
        "# smf.logit(formula='Outcome~Glucose',data=df).fit().pvalues['Glucose']\n",
        "# smf.logit(formula='Outcome~Pregnancies',data=df).fit().pvalues['Pregnancies']\n",
        "# smf.logit(formula='Outcome~SkinThickness',data=df).fit().pvalues['SkinThickness']"
      ],
      "metadata": {
        "colab": {
          "base_uri": "https://localhost:8080/"
        },
        "id": "Zr4MyCJoisqz",
        "outputId": "5b6f27d2-8403-4382-9cc7-e5fa47209aec"
      },
      "execution_count": null,
      "outputs": [
        {
          "output_type": "stream",
          "name": "stdout",
          "text": [
            "Optimization terminated successfully.\n",
            "         Current function value: 0.644003\n",
            "         Iterations 5\n"
          ]
        },
        {
          "output_type": "execute_result",
          "data": {
            "text/plain": [
              "0.038815803290342864"
            ]
          },
          "metadata": {},
          "execution_count": 93
        }
      ]
    },
    {
      "cell_type": "code",
      "source": [
        "## Multi Collinearity check\n",
        "from statsmodels.stats.outliers_influence import variance_inflation_factor\n",
        "\n",
        "def calculate_vif(df_vif):\n",
        "    vif_data = pd.DataFrame()\n",
        "    vif_data['feature']=df_vif.columns\n",
        "    vif_data['VIF'] = [variance_inflation_factor(df_vif.values,i) for i in range(len(df_vif.columns))]\n",
        "    return vif_data\n",
        "\n",
        "df_vif = df.iloc[:,:-1]\n",
        "vif_data = calculate_vif(df_vif)\n",
        "print(vif_data)\n",
        "\n",
        "## While correlation matrix doesn't indicate any correlation between any two features,\n",
        "## there seem to exist a huge multi-collinearity with features -> Glucose, BP, BMI and Age\n",
        "\n",
        "## We try binning these features to see if we can eliminate multicollinearity here\n",
        "\n",
        "df_org = df.copy() # Savig a copy just in case\n",
        "\n",
        "def add_categories(df,colName):\n",
        "    catColName = colName + '_cat'\n",
        "    df[catColName] = pd.qcut(df[colName],q=4,labels=[1,2,3,4])\n",
        "    df.drop([colName],inplace=True,axis=1)\n",
        "    return df\n",
        "# df['Glucose_cat'] = pd.qcut(df['Glucose'],q=4,labels=[1,2,3,4])\n",
        "# df['BP_cat'] = pd.qcut(df['BloodPressure'],q=4,labels=[1,2,3,4])\n",
        "# df['BMI_cat'] = pd.qcut(df['BMI'],q=4,labels=[1,2,3,4])\n",
        "# df['Age_cat'] = pd.qcut(df['Age'],q=4,labels=[1,2,3,4])\n",
        "# df.drop(['Glucose','BloodPressure','BMI','Age'],axis=1,inplace=True)\n",
        "\n",
        "df_cat = add_categories(df,'Glucose')\n",
        "df_cat = add_categories(df,'BloodPressure')\n",
        "df_cat = add_categories(df,'BMI')\n",
        "df_cat = add_categories(df,'Age')\n",
        "df_cat"
      ],
      "metadata": {
        "id": "_zULwk2zH5h3"
      },
      "execution_count": null,
      "outputs": []
    }
  ]
}